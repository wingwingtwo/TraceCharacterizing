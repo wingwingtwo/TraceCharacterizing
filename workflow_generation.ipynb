{
 "cells": [
  {
   "cell_type": "code",
   "execution_count": 1,
   "metadata": {},
   "outputs": [],
   "source": [
    "datafile = '../data/Topology/for_generation/toutiao_span_shape.csv'"
   ]
  },
  {
   "cell_type": "code",
   "execution_count": 2,
   "metadata": {},
   "outputs": [],
   "source": [
    "import numpy as np\n",
    "import pandas as pd\n",
    "import matplotlib.pyplot as plt\n",
    "import seaborn as sns"
   ]
  },
  {
   "cell_type": "code",
   "execution_count": 4,
   "metadata": {},
   "outputs": [],
   "source": [
    "from scipy import stats"
   ]
  },
  {
   "cell_type": "code",
   "execution_count": 5,
   "metadata": {},
   "outputs": [],
   "source": [
    "import json"
   ]
  },
  {
   "cell_type": "code",
   "execution_count": 6,
   "metadata": {},
   "outputs": [],
   "source": [
    "df = pd.read_csv(datafile, encoding= 'unicode_escape',index_col=0)"
   ]
  },
  {
   "cell_type": "markdown",
   "metadata": {},
   "source": [
    "## Trace Tree--Generation"
   ]
  },
  {
   "cell_type": "code",
   "execution_count": 8,
   "metadata": {},
   "outputs": [],
   "source": [
    "df_span_child = df\n",
    "generated_trace_num = 1000\n",
    "tree_root = range(generated_trace_num)\n",
    "tree_dic = {}\n",
    "cur_id = generated_trace_num\n",
    "def generate_children(parent_id, cur_depth, cur_id):\n",
    "    # print('---------------')\n",
    "    if cur_depth>df_span_child['depth'].max():\n",
    "        # print('depth reach to max!')\n",
    "        tree_dic[parent_id] = []\n",
    "        return cur_id\n",
    "    # print('generate for node:', parent_id)\n",
    "    child_num = np.random.choice(df_span_child[df_span_child['depth']==cur_depth]['Total_Child'].fillna(0).values)\n",
    "    child_id_list = list(np.arange(cur_id, cur_id+int(child_num)).astype(int))\n",
    "    # print('depth=', cur_depth)\n",
    "    # print('child_list = ', child_id_list)\n",
    "    cur_id = cur_id+child_num\n",
    "    tree_dic[parent_id] = child_id_list\n",
    "    for child_id in child_id_list:\n",
    "        cur_id = generate_children(child_id, cur_depth+1, cur_id)\n",
    "    return cur_id\n",
    "for root_id in tree_root:\n",
    "    depth = 0\n",
    "    cur_id = generate_children(root_id, depth, cur_id)"
   ]
  },
  {
   "cell_type": "markdown",
   "metadata": {},
   "source": [
    "## Synchronous/Asynchronous Call Separation"
   ]
  },
  {
   "cell_type": "code",
   "execution_count": 41,
   "metadata": {},
   "outputs": [],
   "source": [
    "def separate_group(call_list):\n",
    "    # we separate groups serially starting from 0 to n, because the node order is randomly generated, which means among them, there is no difference.\n",
    "    n = len(call_list)\n",
    "    n_cur = 0\n",
    "    n_left = n\n",
    "    group_list = []\n",
    "    if n <2 :\n",
    "        group_list.append(call_list)\n",
    "        return group_list\n",
    "    group_list.append(call_list[:int(n*0.7)+1])\n",
    "    n_cur = int(n*0.7)+1\n",
    "    n_left = n_left-n_cur\n",
    "    while n_left > 2:\n",
    "#         random_num = np.random.randint(2,n_left+1)\n",
    "        group_list.append(call_list[n_cur:n_cur+2])\n",
    "        n_cur=n_cur+2\n",
    "        n_left = n_left - 2\n",
    "    if n_cur<n:\n",
    "        group_list.append(call_list[n_cur:])\n",
    "    return group_list"
   ]
  },
  {
   "cell_type": "code",
   "execution_count": 43,
   "metadata": {},
   "outputs": [],
   "source": [
    "nodes_structure = {}\n",
    "for i in tree_dic.keys():\n",
    "    nodes_structure[i] = separate_group(tree_dic[i])"
   ]
  },
  {
   "cell_type": "markdown",
   "metadata": {},
   "source": [
    "## Time Dependency--Generation"
   ]
  },
  {
   "cell_type": "code",
   "execution_count": 28,
   "metadata": {},
   "outputs": [],
   "source": [
    "def generate_DT(m=3.0,v=0.5,lower_bound=1.8):\n",
    "    # truncted Normal distribution\n",
    "    random_value = stats.truncnorm.rvs((lower_bound-m)/v, (100-m)/v, loc=m, scale=v, random_state=None)\n",
    "    #print(random_value)\n",
    "    return pow(10,random_value)"
   ]
  },
  {
   "cell_type": "code",
   "execution_count": 30,
   "metadata": {},
   "outputs": [],
   "source": [
    "# Generate the running time for each module\n",
    "node_DT = {}\n",
    "for n in tree_dic.keys():\n",
    "    node_DT[n]=generate_DT(m=1.85,v=0.15,lower_bound=1)\n",
    "# Generate the message size of sending and receiving for each pair of modules(edge)\n",
    "edge_MS = []\n",
    "for n in tree_dic.keys():\n",
    "    for m in tree_dic[n]:\n",
    "        start_edge=n\n",
    "        end_edge=m\n",
    "        edge_MS.append([start_edge,end_edge,generate_DT(v=1.0),generate_DT(v=1.0)])"
   ]
  },
  {
   "cell_type": "code",
   "execution_count": 31,
   "metadata": {},
   "outputs": [],
   "source": [
    "df_edge_info = pd.DataFrame(edge_MS, columns=['start','end','send_MS','recv_MS'])"
   ]
  },
  {
   "cell_type": "code",
   "execution_count": 32,
   "metadata": {},
   "outputs": [
    {
     "data": {
      "text/html": [
       "<div>\n",
       "<style scoped>\n",
       "    .dataframe tbody tr th:only-of-type {\n",
       "        vertical-align: middle;\n",
       "    }\n",
       "\n",
       "    .dataframe tbody tr th {\n",
       "        vertical-align: top;\n",
       "    }\n",
       "\n",
       "    .dataframe thead th {\n",
       "        text-align: right;\n",
       "    }\n",
       "</style>\n",
       "<table border=\"1\" class=\"dataframe\">\n",
       "  <thead>\n",
       "    <tr style=\"text-align: right;\">\n",
       "      <th></th>\n",
       "      <th>start</th>\n",
       "      <th>end</th>\n",
       "      <th>send_MS</th>\n",
       "      <th>recv_MS</th>\n",
       "    </tr>\n",
       "  </thead>\n",
       "  <tbody>\n",
       "    <tr>\n",
       "      <th>0</th>\n",
       "      <td>0</td>\n",
       "      <td>1000</td>\n",
       "      <td>15420.553167</td>\n",
       "      <td>400.748464</td>\n",
       "    </tr>\n",
       "    <tr>\n",
       "      <th>1</th>\n",
       "      <td>1000</td>\n",
       "      <td>1001</td>\n",
       "      <td>148.194680</td>\n",
       "      <td>1993.521991</td>\n",
       "    </tr>\n",
       "    <tr>\n",
       "      <th>2</th>\n",
       "      <td>1001</td>\n",
       "      <td>1002</td>\n",
       "      <td>1679.162911</td>\n",
       "      <td>2284.858820</td>\n",
       "    </tr>\n",
       "    <tr>\n",
       "      <th>3</th>\n",
       "      <td>1002</td>\n",
       "      <td>1003</td>\n",
       "      <td>19235.494013</td>\n",
       "      <td>229014.460299</td>\n",
       "    </tr>\n",
       "    <tr>\n",
       "      <th>4</th>\n",
       "      <td>1003</td>\n",
       "      <td>1004</td>\n",
       "      <td>105.905503</td>\n",
       "      <td>64.709731</td>\n",
       "    </tr>\n",
       "    <tr>\n",
       "      <th>...</th>\n",
       "      <td>...</td>\n",
       "      <td>...</td>\n",
       "      <td>...</td>\n",
       "      <td>...</td>\n",
       "    </tr>\n",
       "    <tr>\n",
       "      <th>25944</th>\n",
       "      <td>993</td>\n",
       "      <td>26944</td>\n",
       "      <td>241.390361</td>\n",
       "      <td>2868.195860</td>\n",
       "    </tr>\n",
       "    <tr>\n",
       "      <th>25945</th>\n",
       "      <td>993</td>\n",
       "      <td>26945</td>\n",
       "      <td>5556.208075</td>\n",
       "      <td>12268.641091</td>\n",
       "    </tr>\n",
       "    <tr>\n",
       "      <th>25946</th>\n",
       "      <td>993</td>\n",
       "      <td>26946</td>\n",
       "      <td>999.102548</td>\n",
       "      <td>79.381063</td>\n",
       "    </tr>\n",
       "    <tr>\n",
       "      <th>25947</th>\n",
       "      <td>993</td>\n",
       "      <td>26947</td>\n",
       "      <td>141.600577</td>\n",
       "      <td>473.301522</td>\n",
       "    </tr>\n",
       "    <tr>\n",
       "      <th>25948</th>\n",
       "      <td>994</td>\n",
       "      <td>26948</td>\n",
       "      <td>346.743830</td>\n",
       "      <td>31473.575487</td>\n",
       "    </tr>\n",
       "  </tbody>\n",
       "</table>\n",
       "<p>25949 rows × 4 columns</p>\n",
       "</div>"
      ],
      "text/plain": [
       "       start    end       send_MS        recv_MS\n",
       "0          0   1000  15420.553167     400.748464\n",
       "1       1000   1001    148.194680    1993.521991\n",
       "2       1001   1002   1679.162911    2284.858820\n",
       "3       1002   1003  19235.494013  229014.460299\n",
       "4       1003   1004    105.905503      64.709731\n",
       "...      ...    ...           ...            ...\n",
       "25944    993  26944    241.390361    2868.195860\n",
       "25945    993  26945   5556.208075   12268.641091\n",
       "25946    993  26946    999.102548      79.381063\n",
       "25947    993  26947    141.600577     473.301522\n",
       "25948    994  26948    346.743830   31473.575487\n",
       "\n",
       "[25949 rows x 4 columns]"
      ]
     },
     "execution_count": 32,
     "metadata": {},
     "output_type": "execute_result"
    }
   ],
   "source": [
    "df_edge_info"
   ]
  },
  {
   "cell_type": "code",
   "execution_count": 161,
   "metadata": {},
   "outputs": [],
   "source": [
    "def predic_RPC_cost(send,recv):\n",
    "    x = (send+recv)/250\n",
    "    return x * (9.021986-4.592256)/400 + 4.592256"
   ]
  },
  {
   "cell_type": "markdown",
   "metadata": {},
   "source": [
    "## Runtime Distribution"
   ]
  },
  {
   "cell_type": "code",
   "execution_count": null,
   "metadata": {},
   "outputs": [],
   "source": [
    "# The start time of a parent is the last end time of all groups.\n",
    "# The runtime of a group equals to the longest one, the runtime of all child, is the adding up of all groups."
   ]
  },
  {
   "cell_type": "code",
   "execution_count": 49,
   "metadata": {},
   "outputs": [],
   "source": [
    "DE = {}"
   ]
  },
  {
   "cell_type": "code",
   "execution_count": 167,
   "metadata": {},
   "outputs": [],
   "source": [
    "def duration_estimate(node_id):\n",
    "    if len(tree_dic[node_id]) == 0:\n",
    "        DE[node_id] = node_DT[node_id]\n",
    "        return node_DT[node_id]\n",
    "    else:\n",
    "        d_sum = 0\n",
    "        groups = nodes_structure[node_id]\n",
    "        for g in groups:\n",
    "            g_max = 0\n",
    "            for nn in g:\n",
    "                if nn in DE.keys():\n",
    "                    d_nn = DE[nn]\n",
    "                else:\n",
    "                    d_nn = duration_estimate(nn)\n",
    "                # nn 与 node_id之间的通讯代价\n",
    "                send_MS = df_edge_info[(df_edge_info['start']==node_id)&(df_edge_info['end']==nn)]['send_MS'].values[0]\n",
    "                recv_MS = df_edge_info[(df_edge_info['start']==node_id)&(df_edge_info['end']==nn)]['recv_MS'].values[0]\n",
    "                d_nn = d_nn+predic_RPC_cost(send_MS,recv_MS)\n",
    "                if d_nn > g_max:\n",
    "                        g_max = d_nn\n",
    "            d_sum += g_max\n",
    "        DE[node_id] = d_sum\n",
    "        return d_sum"
   ]
  }
 ],
 "metadata": {
  "kernelspec": {
   "display_name": "Python 3",
   "language": "python",
   "name": "python3"
  },
  "language_info": {
   "codemirror_mode": {
    "name": "ipython",
    "version": 3
   },
   "file_extension": ".py",
   "mimetype": "text/x-python",
   "name": "python",
   "nbconvert_exporter": "python",
   "pygments_lexer": "ipython3",
   "version": "3.8.5"
  }
 },
 "nbformat": 4,
 "nbformat_minor": 4
}
